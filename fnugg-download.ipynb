{
 "cells": [
  {
   "cell_type": "code",
   "execution_count": 288,
   "metadata": {},
   "outputs": [],
   "source": [
    "import requests\n",
    "import ast\n",
    "import pandas as pd\n",
    "from rich import print as printr\n",
    "import json\n",
    "from pathlib import Path"
   ]
  },
  {
   "cell_type": "code",
   "execution_count": 289,
   "metadata": {},
   "outputs": [],
   "source": [
    "# Define query for Fnugg API.\n",
    "endpoint = 'https://api.fnugg.no/search'\n",
    "parameters = {\n",
    "    'size': 150,\n",
    "    'sourceFields': 'name,contact,resort_open,region,location,weather_zones,conditions,last_updated',\n",
    "}"
   ]
  },
  {
   "cell_type": "code",
   "execution_count": 290,
   "metadata": {},
   "outputs": [
    {
     "name": "stdout",
     "output_type": "stream",
     "text": [
      "200\n"
     ]
    }
   ],
   "source": [
    "# Access Fnug API and confirm successful GET request.\n",
    "r = requests.get(endpoint, params=parameters)\n",
    "print(r.status_code)\n",
    "data_dict = r.json()"
   ]
  },
  {
   "cell_type": "code",
   "execution_count": 291,
   "metadata": {},
   "outputs": [
    {
     "name": "stdout",
     "output_type": "stream",
     "text": [
      "Number of resorts matching query = 121\n"
     ]
    }
   ],
   "source": [
    "print ('Number of resorts matching query = ' + str(len(data_dict['hits']['hits'])))\n",
    "resorts = data_dict['hits']['hits']"
   ]
  },
  {
   "cell_type": "code",
   "execution_count": 292,
   "metadata": {},
   "outputs": [],
   "source": [
    "# Save to file for futre use.\n",
    "with open('fnugg-data.json', 'w') as json_file:\n",
    "    json.dump(data_dict, json_file, indent=4)"
   ]
  },
  {
   "cell_type": "code",
   "execution_count": 293,
   "metadata": {},
   "outputs": [],
   "source": [
    "# Reopen from file.\n",
    "with open('fnugg-data.json', 'r') as json_file:\n",
    "    data_dict = json.load(json_file)"
   ]
  },
  {
   "cell_type": "code",
   "execution_count": 294,
   "metadata": {},
   "outputs": [],
   "source": [
    "# Define DataFrame ro capture key details from API reponse.\n",
    "columns = ['name', 'region', 'resort_open', 'latitude', 'longitude', 'weather_zone_type', 'snow_at_top_current', 'snow_at_bottom_current', 'last_updated']\n",
    "df = pd.DataFrame(columns=columns)\n",
    "\n",
    "# Loop through resorts and collect data.\n",
    "for resort in resorts:\n",
    "    row = {\n",
    "        'name': resort['_source']['name'],\n",
    "        'region': resort['_source']['region'],\n",
    "        'resort_open': resort['_source']['resort_open'],\n",
    "        'latitude': resort['_source']['location']['lat'],\n",
    "        'longitude': resort['_source']['location']['lon'],\n",
    "        'weather_zone_type': resort['_source']['weather_zones']['type'],\n",
    "        'snow_at_top_current': resort['_source']['conditions']['current_report']['top']['snow']['depth_slope'],\n",
    "        'last_updated': resort['_source']['last_updated'],\n",
    "    }\n",
    "    if 'bottom' in resort['_source']['conditions']['current_report']: # Some resorts only have 'top' measurements.\n",
    "        row['snow_at_bottom_current'] = resort['_source']['conditions']['current_report']['bottom']['snow']['depth_slope']\n",
    "    else:\n",
    "        row['snow_at_bottom_current'] = None\n",
    "\n",
    "    df.loc[len(df)] = row\n"
   ]
  },
  {
   "cell_type": "code",
   "execution_count": 295,
   "metadata": {},
   "outputs": [],
   "source": [
    "# Change 'Region' column datatype and clean contents.\n",
    "# df['region'] = df['region'].astype(str)\n",
    "# df['region'] = (df['region'].str.strip()\n",
    "#                 .str.replace(\"['\",\"\")\n",
    "#                 .str.replace(\"']\",\"\")\n",
    "#                 .str.replace(\"[]\",\"\")\n",
    "# )"
   ]
  },
  {
   "cell_type": "code",
   "execution_count": 296,
   "metadata": {},
   "outputs": [
    {
     "data": {
      "text/html": [
       "<div>\n",
       "<style scoped>\n",
       "    .dataframe tbody tr th:only-of-type {\n",
       "        vertical-align: middle;\n",
       "    }\n",
       "\n",
       "    .dataframe tbody tr th {\n",
       "        vertical-align: top;\n",
       "    }\n",
       "\n",
       "    .dataframe thead th {\n",
       "        text-align: right;\n",
       "    }\n",
       "</style>\n",
       "<table border=\"1\" class=\"dataframe\">\n",
       "  <thead>\n",
       "    <tr style=\"text-align: right;\">\n",
       "      <th></th>\n",
       "      <th>Name</th>\n",
       "      <th>Region</th>\n",
       "      <th>Resort Open</th>\n",
       "      <th>Latitude</th>\n",
       "      <th>Longitude</th>\n",
       "      <th>Weather Zone Type</th>\n",
       "      <th>Snow on Top (cm)</th>\n",
       "      <th>Snow at Bottom (cm)</th>\n",
       "      <th>Last Updated</th>\n",
       "    </tr>\n",
       "  </thead>\n",
       "  <tbody>\n",
       "    <tr>\n",
       "      <th>0</th>\n",
       "      <td>Hallingskarvet Skisenter (Sudndalen)</td>\n",
       "      <td>[Østlandet]</td>\n",
       "      <td>True</td>\n",
       "      <td>60.652728</td>\n",
       "      <td>8.025943</td>\n",
       "      <td>combined</td>\n",
       "      <td>50</td>\n",
       "      <td>None</td>\n",
       "      <td>2024-01-30T07:39:13Z</td>\n",
       "    </tr>\n",
       "    <tr>\n",
       "      <th>1</th>\n",
       "      <td>Fonna Glacier Ski Resort</td>\n",
       "      <td>[]</td>\n",
       "      <td>True</td>\n",
       "      <td>60.288106</td>\n",
       "      <td>6.316235</td>\n",
       "      <td>combined</td>\n",
       "      <td>50</td>\n",
       "      <td>None</td>\n",
       "      <td>2024-01-30T07:39:14Z</td>\n",
       "    </tr>\n",
       "    <tr>\n",
       "      <th>2</th>\n",
       "      <td>Gausta Skisenter</td>\n",
       "      <td>[Østlandet]</td>\n",
       "      <td>True</td>\n",
       "      <td>59.880152</td>\n",
       "      <td>8.734026</td>\n",
       "      <td>combined</td>\n",
       "      <td>100</td>\n",
       "      <td>None</td>\n",
       "      <td>2024-01-30T07:39:13Z</td>\n",
       "    </tr>\n",
       "    <tr>\n",
       "      <th>3</th>\n",
       "      <td>Fidjeland Skitrekk</td>\n",
       "      <td>[Sørlandet]</td>\n",
       "      <td>True</td>\n",
       "      <td>58.958828</td>\n",
       "      <td>6.945956</td>\n",
       "      <td>combined</td>\n",
       "      <td>70</td>\n",
       "      <td>None</td>\n",
       "      <td>2024-01-30T07:39:14Z</td>\n",
       "    </tr>\n",
       "    <tr>\n",
       "      <th>4</th>\n",
       "      <td>Fulufjellet Alpinsenter</td>\n",
       "      <td>[Østlandet]</td>\n",
       "      <td>True</td>\n",
       "      <td>61.390801</td>\n",
       "      <td>12.746394</td>\n",
       "      <td>combined</td>\n",
       "      <td>40</td>\n",
       "      <td>None</td>\n",
       "      <td>2024-01-30T07:39:14Z</td>\n",
       "    </tr>\n",
       "  </tbody>\n",
       "</table>\n",
       "</div>"
      ],
      "text/plain": [
       "                                   Name       Region  Resort Open   Latitude  \\\n",
       "0  Hallingskarvet Skisenter (Sudndalen)  [Østlandet]         True  60.652728   \n",
       "1              Fonna Glacier Ski Resort           []         True  60.288106   \n",
       "2                      Gausta Skisenter  [Østlandet]         True  59.880152   \n",
       "3                    Fidjeland Skitrekk  [Sørlandet]         True  58.958828   \n",
       "4               Fulufjellet Alpinsenter  [Østlandet]         True  61.390801   \n",
       "\n",
       "   Longitude Weather Zone Type Snow on Top (cm) Snow at Bottom (cm)  \\\n",
       "0   8.025943          combined               50                None   \n",
       "1   6.316235          combined               50                None   \n",
       "2   8.734026          combined              100                None   \n",
       "3   6.945956          combined               70                None   \n",
       "4  12.746394          combined               40                None   \n",
       "\n",
       "           Last Updated  \n",
       "0  2024-01-30T07:39:13Z  \n",
       "1  2024-01-30T07:39:14Z  \n",
       "2  2024-01-30T07:39:13Z  \n",
       "3  2024-01-30T07:39:14Z  \n",
       "4  2024-01-30T07:39:14Z  "
      ]
     },
     "execution_count": 296,
     "metadata": {},
     "output_type": "execute_result"
    }
   ],
   "source": [
    "# Create a DataFrame for the Shiny dashboard.\n",
    "renamer = {\n",
    "    'name': 'Name',\n",
    "    'region': 'Region',\n",
    "    'resort_open': 'Resort Open',\n",
    "    'latitude': 'Latitude',\n",
    "    'longitude': 'Longitude',\n",
    "    'weather_zone_type': 'Weather Zone Type',\n",
    "    'snow_at_top_current': 'Snow on Top (cm)',\n",
    "    'snow_at_bottom_current': 'Snow at Bottom (cm)',\n",
    "    'last_updated': 'Last Updated',\n",
    "    }\n",
    "\n",
    "df_dashboard = df.rename(columns=renamer)\n",
    "df_dashboard.head()"
   ]
  },
  {
   "cell_type": "code",
   "execution_count": 297,
   "metadata": {},
   "outputs": [],
   "source": [
    "cwd = Path.cwd()\n",
    "file_path = cwd / 'dashboard' / 'ski-resorts.csv'"
   ]
  },
  {
   "cell_type": "code",
   "execution_count": 298,
   "metadata": {},
   "outputs": [],
   "source": [
    "df_dashboard.to_csv(file_path, index=False)"
   ]
  },
  {
   "cell_type": "code",
   "execution_count": 299,
   "metadata": {},
   "outputs": [],
   "source": [
    "resort_df = pd.read_csv(file_path)"
   ]
  },
  {
   "cell_type": "code",
   "execution_count": 300,
   "metadata": {},
   "outputs": [
    {
     "data": {
      "text/plain": [
       "Name                    object\n",
       "Region                  object\n",
       "Resort Open               bool\n",
       "Latitude               float64\n",
       "Longitude              float64\n",
       "Weather Zone Type       object\n",
       "Snow on Top (cm)       float64\n",
       "Snow at Bottom (cm)    float64\n",
       "Last Updated            object\n",
       "dtype: object"
      ]
     },
     "execution_count": 300,
     "metadata": {},
     "output_type": "execute_result"
    }
   ],
   "source": [
    "resort_df.dtypes"
   ]
  },
  {
   "cell_type": "code",
   "execution_count": 301,
   "metadata": {},
   "outputs": [],
   "source": [
    "region_selection = ['Midt-Norge', 'Nord-Vestlandet']"
   ]
  },
  {
   "cell_type": "code",
   "execution_count": 302,
   "metadata": {},
   "outputs": [],
   "source": [
    "def filter_regions(regions, selections):\n",
    "    regions_list = ast.literal_eval(regions) # regions are initally in string format.\n",
    "    intersection = set(regions_list) & set(selections)\n",
    "    return len(intersection) > 0"
   ]
  },
  {
   "cell_type": "code",
   "execution_count": 305,
   "metadata": {},
   "outputs": [
    {
     "data": {
      "text/plain": [
       "0      False\n",
       "1      False\n",
       "2      False\n",
       "3      False\n",
       "4      False\n",
       "       ...  \n",
       "116    False\n",
       "117    False\n",
       "118    False\n",
       "119    False\n",
       "120    False\n",
       "Name: Region, Length: 121, dtype: bool"
      ]
     },
     "execution_count": 305,
     "metadata": {},
     "output_type": "execute_result"
    }
   ],
   "source": [
    "resort_df['Region'].apply(filter_regions, args=(region_selection,))"
   ]
  },
  {
   "cell_type": "code",
   "execution_count": 310,
   "metadata": {},
   "outputs": [
    {
     "data": {
      "text/plain": [
       "['Østlandet',\n",
       " nan,\n",
       " 'Sørlandet',\n",
       " 'Nord-Norge',\n",
       " 'Nord-Vestlandet',\n",
       " 'Midt-Norge',\n",
       " 'Sør-Vestlandet']"
      ]
     },
     "execution_count": 310,
     "metadata": {},
     "output_type": "execute_result"
    }
   ],
   "source": [
    "regions = df_dashboard['Region'].explode().unique().tolist()\n",
    "regions"
   ]
  },
  {
   "cell_type": "code",
   "execution_count": 317,
   "metadata": {},
   "outputs": [
    {
     "ename": "ValueError",
     "evalue": "list.remove(x): x not in list",
     "output_type": "error",
     "traceback": [
      "\u001b[0;31m---------------------------------------------------------------------------\u001b[0m",
      "\u001b[0;31mValueError\u001b[0m                                Traceback (most recent call last)",
      "Cell \u001b[0;32mIn[317], line 1\u001b[0m\n\u001b[0;32m----> 1\u001b[0m \u001b[43mregions\u001b[49m\u001b[38;5;241;43m.\u001b[39;49m\u001b[43mremove\u001b[49m\u001b[43m(\u001b[49m\u001b[38;5;28;43;01mNone\u001b[39;49;00m\u001b[43m)\u001b[49m\n",
      "\u001b[0;31mValueError\u001b[0m: list.remove(x): x not in list"
     ]
    }
   ],
   "source": [
    "regions.remove(None)"
   ]
  },
  {
   "cell_type": "code",
   "execution_count": 314,
   "metadata": {},
   "outputs": [
    {
     "data": {
      "text/plain": [
       "['Østlandet',\n",
       " nan,\n",
       " 'Sørlandet',\n",
       " 'Nord-Norge',\n",
       " 'Nord-Vestlandet',\n",
       " 'Midt-Norge',\n",
       " 'Sør-Vestlandet']"
      ]
     },
     "execution_count": 314,
     "metadata": {},
     "output_type": "execute_result"
    }
   ],
   "source": [
    "regions"
   ]
  },
  {
   "cell_type": "code",
   "execution_count": 318,
   "metadata": {},
   "outputs": [],
   "source": [
    "del regions[1]"
   ]
  },
  {
   "cell_type": "code",
   "execution_count": 319,
   "metadata": {},
   "outputs": [
    {
     "data": {
      "text/plain": [
       "['Østlandet',\n",
       " 'Sørlandet',\n",
       " 'Nord-Norge',\n",
       " 'Nord-Vestlandet',\n",
       " 'Midt-Norge',\n",
       " 'Sør-Vestlandet']"
      ]
     },
     "execution_count": 319,
     "metadata": {},
     "output_type": "execute_result"
    }
   ],
   "source": [
    "regions"
   ]
  },
  {
   "cell_type": "code",
   "execution_count": null,
   "metadata": {},
   "outputs": [],
   "source": []
  }
 ],
 "metadata": {
  "kernelspec": {
   "display_name": ".venv",
   "language": "python",
   "name": "python3"
  },
  "language_info": {
   "codemirror_mode": {
    "name": "ipython",
    "version": 3
   },
   "file_extension": ".py",
   "mimetype": "text/x-python",
   "name": "python",
   "nbconvert_exporter": "python",
   "pygments_lexer": "ipython3",
   "version": "3.11.7"
  }
 },
 "nbformat": 4,
 "nbformat_minor": 2
}
