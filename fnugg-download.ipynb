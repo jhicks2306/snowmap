{
 "cells": [
  {
   "cell_type": "code",
   "execution_count": 176,
   "metadata": {},
   "outputs": [],
   "source": [
    "import requests\n",
    "import pandas as pd\n",
    "from rich import print as printr\n",
    "import json\n",
    "from pathlib import Path"
   ]
  },
  {
   "cell_type": "code",
   "execution_count": 157,
   "metadata": {},
   "outputs": [],
   "source": [
    "# Define query for Fnugg API.\n",
    "endpoint = 'https://api.fnugg.no/search'\n",
    "parameters = {\n",
    "    'size': 150,\n",
    "    'sourceFields': 'name,contact,resort_open,region,location,weather_zones,conditions,last_updated',\n",
    "}"
   ]
  },
  {
   "cell_type": "code",
   "execution_count": 160,
   "metadata": {},
   "outputs": [
    {
     "name": "stdout",
     "output_type": "stream",
     "text": [
      "200\n"
     ]
    }
   ],
   "source": [
    "# Access Fnug API and confirm successful GET request.\n",
    "r = requests.get(endpoint, params=parameters)\n",
    "print(r.status_code)\n",
    "data_dict = r.json()"
   ]
  },
  {
   "cell_type": "code",
   "execution_count": 170,
   "metadata": {},
   "outputs": [
    {
     "name": "stdout",
     "output_type": "stream",
     "text": [
      "Number of resorts matching query = 120\n"
     ]
    }
   ],
   "source": [
    "print ('Number of resorts matching query = ' + str(len(data_dict['hits']['hits'])))\n",
    "resorts = data_dict['hits']['hits']"
   ]
  },
  {
   "cell_type": "code",
   "execution_count": 162,
   "metadata": {},
   "outputs": [],
   "source": [
    "# Save to file for futre use.\n",
    "with open('fnugg-data.json', 'w') as json_file:\n",
    "    json.dump(data_dict, json_file, indent=4)"
   ]
  },
  {
   "cell_type": "code",
   "execution_count": 163,
   "metadata": {},
   "outputs": [],
   "source": [
    "# Reopen from file.\n",
    "with open('fnugg-data.json', 'r') as json_file:\n",
    "    data_dict = json.load(json_file)"
   ]
  },
  {
   "cell_type": "code",
   "execution_count": 184,
   "metadata": {},
   "outputs": [],
   "source": [
    "# Define DataFrame ro capture key details from API reponse.\n",
    "columns = ['name', 'region', 'resort_open', 'latitude', 'longitude', 'weather_zone_type', 'snow_at_top_current', 'snow_at_bottom_current', 'last_updated']\n",
    "df = pd.DataFrame(columns=columns)\n",
    "\n",
    "# Loop through resorts and collect data.\n",
    "for resort in resorts:\n",
    "    row = {\n",
    "        'name': resort['_source']['name'],\n",
    "        'region': resort['_source']['region'],\n",
    "        'resort_open': resort['_source']['resort_open'],\n",
    "        'latitude': resort['_source']['location']['lat'],\n",
    "        'longitude': resort['_source']['location']['lon'],\n",
    "        'weather_zone_type': resort['_source']['weather_zones']['type'],\n",
    "        'snow_at_top_current': resort['_source']['conditions']['current_report']['top']['snow']['depth_slope'],\n",
    "        'last_updated': resort['_source']['last_updated'],\n",
    "    }\n",
    "    if 'bottom' in resort['_source']['conditions']['current_report']: # Some resorts only have 'top' measurements.\n",
    "        row['snow_at_bottom_current'] = resort['_source']['conditions']['current_report']['bottom']['snow']['depth_slope']\n",
    "    else:\n",
    "        row['snow_at_bottom_current'] = None\n",
    "\n",
    "    df.loc[len(df)] = row\n"
   ]
  },
  {
   "cell_type": "code",
   "execution_count": 189,
   "metadata": {},
   "outputs": [],
   "source": [
    "# Change 'Region' column datatype and clean contents.\n",
    "df['region'] = df['region'].astype(str)\n",
    "df['region'] = (df['region'].str.strip()\n",
    "                .str.replace(\"['\",\"\")\n",
    "                .str.replace(\"']\",\"\")\n",
    "                .str.replace(\"[]\",\"\")\n",
    ")"
   ]
  },
  {
   "cell_type": "code",
   "execution_count": 196,
   "metadata": {},
   "outputs": [
    {
     "data": {
      "text/html": [
       "<div>\n",
       "<style scoped>\n",
       "    .dataframe tbody tr th:only-of-type {\n",
       "        vertical-align: middle;\n",
       "    }\n",
       "\n",
       "    .dataframe tbody tr th {\n",
       "        vertical-align: top;\n",
       "    }\n",
       "\n",
       "    .dataframe thead th {\n",
       "        text-align: right;\n",
       "    }\n",
       "</style>\n",
       "<table border=\"1\" class=\"dataframe\">\n",
       "  <thead>\n",
       "    <tr style=\"text-align: right;\">\n",
       "      <th></th>\n",
       "      <th>Name</th>\n",
       "      <th>Region</th>\n",
       "      <th>Snow on Top (cm)</th>\n",
       "      <th>Last Updated</th>\n",
       "    </tr>\n",
       "  </thead>\n",
       "  <tbody>\n",
       "    <tr>\n",
       "      <th>0</th>\n",
       "      <td>Solveiglia Turbofjølabakken</td>\n",
       "      <td>Østlandet</td>\n",
       "      <td>50</td>\n",
       "      <td>2024-01-23T07:39:06Z</td>\n",
       "    </tr>\n",
       "    <tr>\n",
       "      <th>1</th>\n",
       "      <td>Varingskollen</td>\n",
       "      <td>Østlandet</td>\n",
       "      <td>50</td>\n",
       "      <td>2024-01-23T07:39:04Z</td>\n",
       "    </tr>\n",
       "    <tr>\n",
       "      <th>2</th>\n",
       "      <td>Hallingskarvet Skisenter (Sudndalen)</td>\n",
       "      <td>Østlandet</td>\n",
       "      <td>50</td>\n",
       "      <td>2024-01-23T07:39:04Z</td>\n",
       "    </tr>\n",
       "    <tr>\n",
       "      <th>3</th>\n",
       "      <td>Sloreåsen slalåmbakken - Ljan alpin</td>\n",
       "      <td>Østlandet</td>\n",
       "      <td>80</td>\n",
       "      <td>2024-01-23T07:39:05Z</td>\n",
       "    </tr>\n",
       "    <tr>\n",
       "      <th>4</th>\n",
       "      <td>Fonna Glacier Ski Resort</td>\n",
       "      <td></td>\n",
       "      <td>50</td>\n",
       "      <td>2024-01-23T07:39:05Z</td>\n",
       "    </tr>\n",
       "  </tbody>\n",
       "</table>\n",
       "</div>"
      ],
      "text/plain": [
       "                                   Name     Region Snow on Top (cm)  \\\n",
       "0           Solveiglia Turbofjølabakken  Østlandet               50   \n",
       "1                         Varingskollen  Østlandet               50   \n",
       "2  Hallingskarvet Skisenter (Sudndalen)  Østlandet               50   \n",
       "3   Sloreåsen slalåmbakken - Ljan alpin  Østlandet               80   \n",
       "4              Fonna Glacier Ski Resort                          50   \n",
       "\n",
       "           Last Updated  \n",
       "0  2024-01-23T07:39:06Z  \n",
       "1  2024-01-23T07:39:04Z  \n",
       "2  2024-01-23T07:39:04Z  \n",
       "3  2024-01-23T07:39:05Z  \n",
       "4  2024-01-23T07:39:05Z  "
      ]
     },
     "execution_count": 196,
     "metadata": {},
     "output_type": "execute_result"
    }
   ],
   "source": [
    "# Create a DataFrame for the Shiny dashboard.\n",
    "renamer = {\n",
    "    'name': 'Name',\n",
    "    'region': 'Region',\n",
    "    'resort_open': 'Resort Open',\n",
    "    'latitude': 'Latitude',\n",
    "    'longitude': 'Longitude',\n",
    "    'weather_zone_type': 'Weather Zone Type',\n",
    "    'snow_at_top_current': 'Snow on Top (cm)',\n",
    "    'snow_at_bottom_current': 'Snow at bottom (cm)',\n",
    "    'last_updated': 'Last Updated',\n",
    "    }\n",
    "\n",
    "df_dashboard = df.rename(columns=renamer)\n",
    "df_dashboard = df_dashboard[['Name', 'Region', 'Snow on Top (cm)', 'Last Updated']]\n",
    "df_dashboard.head()"
   ]
  },
  {
   "cell_type": "code",
   "execution_count": 197,
   "metadata": {},
   "outputs": [],
   "source": [
    "cwd = Path.cwd()\n",
    "file_path = cwd / 'dashboard' / 'ski-resorts.csv'"
   ]
  },
  {
   "cell_type": "code",
   "execution_count": 200,
   "metadata": {},
   "outputs": [],
   "source": [
    "df_dashboard.to_csv(file_path, index=False)"
   ]
  },
  {
   "cell_type": "code",
   "execution_count": null,
   "metadata": {},
   "outputs": [],
   "source": []
  }
 ],
 "metadata": {
  "kernelspec": {
   "display_name": ".venv",
   "language": "python",
   "name": "python3"
  },
  "language_info": {
   "codemirror_mode": {
    "name": "ipython",
    "version": 3
   },
   "file_extension": ".py",
   "mimetype": "text/x-python",
   "name": "python",
   "nbconvert_exporter": "python",
   "pygments_lexer": "ipython3",
   "version": "3.11.7"
  }
 },
 "nbformat": 4,
 "nbformat_minor": 2
}
