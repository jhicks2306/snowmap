{
 "cells": [
  {
   "cell_type": "code",
   "execution_count": 320,
   "metadata": {},
   "outputs": [],
   "source": [
    "import requests\n",
    "import ast\n",
    "import pandas as pd\n",
    "from rich import print as printr\n",
    "import json\n",
    "from pathlib import Path"
   ]
  },
  {
   "cell_type": "code",
   "execution_count": 321,
   "metadata": {},
   "outputs": [],
   "source": [
    "# Define query for Fnugg API.\n",
    "endpoint = 'https://api.fnugg.no/search'\n",
    "parameters = {\n",
    "    'size': 150,\n",
    "    'sourceFields': 'name,contact,resort_open,region,location,weather_zones,conditions,last_updated,site_path,lifts,slopes',\n",
    "}"
   ]
  },
  {
   "cell_type": "code",
   "execution_count": 322,
   "metadata": {},
   "outputs": [
    {
     "name": "stdout",
     "output_type": "stream",
     "text": [
      "200\n"
     ]
    }
   ],
   "source": [
    "# Access Fnug API and confirm successful GET request.\n",
    "r = requests.get(endpoint, params=parameters)\n",
    "print(r.status_code)\n",
    "data_dict = r.json()"
   ]
  },
  {
   "cell_type": "code",
   "execution_count": 323,
   "metadata": {},
   "outputs": [
    {
     "name": "stdout",
     "output_type": "stream",
     "text": [
      "Number of resorts matching query = 121\n"
     ]
    }
   ],
   "source": [
    "print ('Number of resorts matching query = ' + str(len(data_dict['hits']['hits'])))\n",
    "resorts = data_dict['hits']['hits']"
   ]
  },
  {
   "cell_type": "code",
   "execution_count": 324,
   "metadata": {},
   "outputs": [],
   "source": [
    "# Save to file for futre use.\n",
    "with open('fnugg-data.json', 'w') as json_file:\n",
    "    json.dump(data_dict, json_file, indent=4)"
   ]
  },
  {
   "cell_type": "code",
   "execution_count": 325,
   "metadata": {},
   "outputs": [],
   "source": [
    "# Reopen from file.\n",
    "with open('fnugg-data.json', 'r') as json_file:\n",
    "    data_dict = json.load(json_file)"
   ]
  },
  {
   "cell_type": "code",
   "execution_count": 344,
   "metadata": {},
   "outputs": [],
   "source": [
    "# Define DataFrame ro capture key details from API reponse.\n",
    "columns = ['name', 'region', 'resort_open', 'latitude', 'longitude', 'weather_zone_type',\n",
    "        'snow_at_top_current', 'snow_at_bottom_current', 'last_updated', 'total_slopes',\n",
    "        'slopes_open', 'total_lifts', 'lifts_open', 'url', 'weekend_forecast']\n",
    "df = pd.DataFrame(columns=columns)\n",
    "\n",
    "# Loop through resorts and collect data.\n",
    "for resort in resorts:\n",
    "    row = {\n",
    "        'name': resort['_source']['name'],\n",
    "        'region': resort['_source']['region'],\n",
    "        'resort_open': resort['_source']['resort_open'],\n",
    "        'latitude': resort['_source']['location']['lat'],\n",
    "        'longitude': resort['_source']['location']['lon'],\n",
    "        'weather_zone_type': resort['_source']['weather_zones']['type'],\n",
    "        'snow_at_top_current': resort['_source']['conditions']['current_report']['top']['snow']['depth_slope'],\n",
    "        'last_updated': resort['_source']['last_updated'],\n",
    "        'total_slopes': resort['_source']['slopes']['count'],\n",
    "        'slopes_open': resort['_source']['slopes']['open'],\n",
    "        'total_lifts': resort['_source']['lifts']['count'],\n",
    "        'lifts_open': resort['_source']['slopes']['open'],\n",
    "        'weekend_forecast': resort['_source']['conditions']['forecast']['weekend']['symbol']['fnugg_id'],\n",
    "        'url': 'https://fnugg.no/' + resort['_source']['site_path'],\n",
    "    }\n",
    "    if 'bottom' in resort['_source']['conditions']['current_report']: # Some resorts only have 'top' measurements.\n",
    "        row['snow_at_bottom_current'] = resort['_source']['conditions']['current_report']['bottom']['snow']['depth_slope']\n",
    "    else:\n",
    "        row['snow_at_bottom_current'] = None\n",
    "\n",
    "    df.loc[len(df)] = row\n"
   ]
  },
  {
   "cell_type": "code",
   "execution_count": 345,
   "metadata": {},
   "outputs": [],
   "source": [
    "# Change 'Region' column datatype and clean contents.\n",
    "# df['region'] = df['region'].astype(str)\n",
    "# df['region'] = (df['region'].str.strip()\n",
    "#                 .str.replace(\"['\",\"\")\n",
    "#                 .str.replace(\"']\",\"\")\n",
    "#                 .str.replace(\"[]\",\"\")\n",
    "# )"
   ]
  },
  {
   "cell_type": "code",
   "execution_count": 346,
   "metadata": {},
   "outputs": [
    {
     "data": {
      "text/html": [
       "<div>\n",
       "<style scoped>\n",
       "    .dataframe tbody tr th:only-of-type {\n",
       "        vertical-align: middle;\n",
       "    }\n",
       "\n",
       "    .dataframe tbody tr th {\n",
       "        vertical-align: top;\n",
       "    }\n",
       "\n",
       "    .dataframe thead th {\n",
       "        text-align: right;\n",
       "    }\n",
       "</style>\n",
       "<table border=\"1\" class=\"dataframe\">\n",
       "  <thead>\n",
       "    <tr style=\"text-align: right;\">\n",
       "      <th></th>\n",
       "      <th>Name</th>\n",
       "      <th>Region</th>\n",
       "      <th>Resort Open</th>\n",
       "      <th>Latitude</th>\n",
       "      <th>Longitude</th>\n",
       "      <th>Weather Zone Type</th>\n",
       "      <th>Snow on Top (cm)</th>\n",
       "      <th>Snow at Bottom (cm)</th>\n",
       "      <th>Last Updated</th>\n",
       "      <th>Total Slopes</th>\n",
       "      <th>Slopes Open</th>\n",
       "      <th>Total Lifts</th>\n",
       "      <th>Lifts Open</th>\n",
       "      <th>Url</th>\n",
       "      <th>Weekend Forecast</th>\n",
       "    </tr>\n",
       "  </thead>\n",
       "  <tbody>\n",
       "    <tr>\n",
       "      <th>0</th>\n",
       "      <td>Sloreåsen slalåmbakken - Ljan alpin</td>\n",
       "      <td>[Østlandet]</td>\n",
       "      <td>True</td>\n",
       "      <td>59.846935</td>\n",
       "      <td>10.793452</td>\n",
       "      <td>combined</td>\n",
       "      <td>80</td>\n",
       "      <td>None</td>\n",
       "      <td>2024-02-02T07:38:57Z</td>\n",
       "      <td>2</td>\n",
       "      <td>2</td>\n",
       "      <td>2</td>\n",
       "      <td>2</td>\n",
       "      <td>https://fnugg.no//ljan/</td>\n",
       "      <td>2</td>\n",
       "    </tr>\n",
       "    <tr>\n",
       "      <th>1</th>\n",
       "      <td>Hallingskarvet Skisenter (Sudndalen)</td>\n",
       "      <td>[Østlandet]</td>\n",
       "      <td>True</td>\n",
       "      <td>60.652728</td>\n",
       "      <td>8.025943</td>\n",
       "      <td>combined</td>\n",
       "      <td>50</td>\n",
       "      <td>None</td>\n",
       "      <td>2024-02-02T07:38:57Z</td>\n",
       "      <td>8</td>\n",
       "      <td>6</td>\n",
       "      <td>3</td>\n",
       "      <td>6</td>\n",
       "      <td>https://fnugg.no//hallingskarvet/</td>\n",
       "      <td>5</td>\n",
       "    </tr>\n",
       "    <tr>\n",
       "      <th>2</th>\n",
       "      <td>Lommedalen Skisenter</td>\n",
       "      <td>[Østlandet]</td>\n",
       "      <td>True</td>\n",
       "      <td>59.955424</td>\n",
       "      <td>10.481264</td>\n",
       "      <td>combined</td>\n",
       "      <td>100</td>\n",
       "      <td>None</td>\n",
       "      <td>2024-02-02T07:38:57Z</td>\n",
       "      <td>5</td>\n",
       "      <td>5</td>\n",
       "      <td>2</td>\n",
       "      <td>5</td>\n",
       "      <td>https://fnugg.no//lommedalen/</td>\n",
       "      <td>2</td>\n",
       "    </tr>\n",
       "    <tr>\n",
       "      <th>3</th>\n",
       "      <td>Sauda Skisenter</td>\n",
       "      <td>[Sør-Vestlandet]</td>\n",
       "      <td>True</td>\n",
       "      <td>59.624627</td>\n",
       "      <td>6.245320</td>\n",
       "      <td>combined</td>\n",
       "      <td>70</td>\n",
       "      <td>None</td>\n",
       "      <td>2024-02-02T07:38:58Z</td>\n",
       "      <td>12</td>\n",
       "      <td>5</td>\n",
       "      <td>6</td>\n",
       "      <td>5</td>\n",
       "      <td>https://fnugg.no//sauda/</td>\n",
       "      <td>9</td>\n",
       "    </tr>\n",
       "    <tr>\n",
       "      <th>4</th>\n",
       "      <td>Dombås Skiheiser</td>\n",
       "      <td>[Østlandet]</td>\n",
       "      <td>False</td>\n",
       "      <td>62.076734</td>\n",
       "      <td>9.143980</td>\n",
       "      <td>combined</td>\n",
       "      <td>40</td>\n",
       "      <td>None</td>\n",
       "      <td>2024-02-02T07:38:59Z</td>\n",
       "      <td>4</td>\n",
       "      <td>4</td>\n",
       "      <td>2</td>\n",
       "      <td>4</td>\n",
       "      <td>https://fnugg.no//dombaas/</td>\n",
       "      <td>4</td>\n",
       "    </tr>\n",
       "  </tbody>\n",
       "</table>\n",
       "</div>"
      ],
      "text/plain": [
       "                                   Name            Region  Resort Open  \\\n",
       "0   Sloreåsen slalåmbakken - Ljan alpin       [Østlandet]         True   \n",
       "1  Hallingskarvet Skisenter (Sudndalen)       [Østlandet]         True   \n",
       "2                  Lommedalen Skisenter       [Østlandet]         True   \n",
       "3                       Sauda Skisenter  [Sør-Vestlandet]         True   \n",
       "4                      Dombås Skiheiser       [Østlandet]        False   \n",
       "\n",
       "    Latitude  Longitude Weather Zone Type Snow on Top (cm)  \\\n",
       "0  59.846935  10.793452          combined               80   \n",
       "1  60.652728   8.025943          combined               50   \n",
       "2  59.955424  10.481264          combined              100   \n",
       "3  59.624627   6.245320          combined               70   \n",
       "4  62.076734   9.143980          combined               40   \n",
       "\n",
       "  Snow at Bottom (cm)          Last Updated  Total Slopes  Slopes Open  \\\n",
       "0                None  2024-02-02T07:38:57Z             2            2   \n",
       "1                None  2024-02-02T07:38:57Z             8            6   \n",
       "2                None  2024-02-02T07:38:57Z             5            5   \n",
       "3                None  2024-02-02T07:38:58Z            12            5   \n",
       "4                None  2024-02-02T07:38:59Z             4            4   \n",
       "\n",
       "   Total Lifts  Lifts Open                                Url  \\\n",
       "0            2           2            https://fnugg.no//ljan/   \n",
       "1            3           6  https://fnugg.no//hallingskarvet/   \n",
       "2            2           5      https://fnugg.no//lommedalen/   \n",
       "3            6           5           https://fnugg.no//sauda/   \n",
       "4            2           4         https://fnugg.no//dombaas/   \n",
       "\n",
       "   Weekend Forecast  \n",
       "0                 2  \n",
       "1                 5  \n",
       "2                 2  \n",
       "3                 9  \n",
       "4                 4  "
      ]
     },
     "execution_count": 346,
     "metadata": {},
     "output_type": "execute_result"
    }
   ],
   "source": [
    "# Create a DataFrame for the Shiny dashboard.\n",
    "renamer = {\n",
    "    'name': 'Name',\n",
    "    'region': 'Region',\n",
    "    'resort_open': 'Resort Open',\n",
    "    'latitude': 'Latitude',\n",
    "    'longitude': 'Longitude',\n",
    "    'weather_zone_type': 'Weather Zone Type',\n",
    "    'snow_at_top_current': 'Snow on Top (cm)',\n",
    "    'snow_at_bottom_current': 'Snow at Bottom (cm)',\n",
    "    'last_updated': 'Last Updated',\n",
    "    'total_slopes': 'Total Slopes',\n",
    "    'slopes_open': 'Slopes Open',\n",
    "    'total_lifts': 'Total Lifts',\n",
    "    'lifts_open': 'Lifts Open',\n",
    "    'weekend_forecast': 'Weekend Forecast',\n",
    "    'url': 'Url',\n",
    "    }\n",
    "\n",
    "df_dashboard = df.rename(columns=renamer)\n",
    "df_dashboard.head()"
   ]
  },
  {
   "cell_type": "code",
   "execution_count": 347,
   "metadata": {},
   "outputs": [],
   "source": [
    "cwd = Path.cwd()\n",
    "file_path = cwd / 'dashboard' / 'ski-resorts.csv'"
   ]
  },
  {
   "cell_type": "code",
   "execution_count": 348,
   "metadata": {},
   "outputs": [],
   "source": [
    "df_dashboard.to_csv(file_path, index=False)"
   ]
  },
  {
   "cell_type": "code",
   "execution_count": 349,
   "metadata": {},
   "outputs": [],
   "source": [
    "resort_df = pd.read_csv(file_path)"
   ]
  },
  {
   "cell_type": "code",
   "execution_count": 350,
   "metadata": {},
   "outputs": [
    {
     "data": {
      "text/plain": [
       "Name                    object\n",
       "Region                  object\n",
       "Resort Open               bool\n",
       "Latitude               float64\n",
       "Longitude              float64\n",
       "Weather Zone Type       object\n",
       "Snow on Top (cm)       float64\n",
       "Snow at Bottom (cm)    float64\n",
       "Last Updated            object\n",
       "Total Slopes             int64\n",
       "Slopes Open              int64\n",
       "Total Lifts              int64\n",
       "Lifts Open               int64\n",
       "Url                     object\n",
       "Weekend Forecast         int64\n",
       "dtype: object"
      ]
     },
     "execution_count": 350,
     "metadata": {},
     "output_type": "execute_result"
    }
   ],
   "source": [
    "resort_df.dtypes"
   ]
  },
  {
   "cell_type": "code",
   "execution_count": 351,
   "metadata": {},
   "outputs": [
    {
     "data": {
      "text/plain": [
       "array([2, 5, 9, 4, 3, 8])"
      ]
     },
     "execution_count": 351,
     "metadata": {},
     "output_type": "execute_result"
    }
   ],
   "source": [
    "resort_df['Weekend Forecast'].unique()"
   ]
  },
  {
   "cell_type": "code",
   "execution_count": null,
   "metadata": {},
   "outputs": [],
   "source": []
  }
 ],
 "metadata": {
  "kernelspec": {
   "display_name": ".venv",
   "language": "python",
   "name": "python3"
  },
  "language_info": {
   "codemirror_mode": {
    "name": "ipython",
    "version": 3
   },
   "file_extension": ".py",
   "mimetype": "text/x-python",
   "name": "python",
   "nbconvert_exporter": "python",
   "pygments_lexer": "ipython3",
   "version": "3.11.7"
  }
 },
 "nbformat": 4,
 "nbformat_minor": 2
}
