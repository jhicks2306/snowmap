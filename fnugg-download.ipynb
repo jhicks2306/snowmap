{
 "cells": [
  {
   "cell_type": "code",
   "execution_count": 71,
   "metadata": {},
   "outputs": [],
   "source": [
    "import requests\n",
    "import pandas as pd\n",
    "from rich import print as printr\n",
    "import json"
   ]
  },
  {
   "cell_type": "code",
   "execution_count": 157,
   "metadata": {},
   "outputs": [],
   "source": [
    "# Define query for Fnugg API.\n",
    "endpoint = 'https://api.fnugg.no/search'\n",
    "parameters = {\n",
    "    'size': 150,\n",
    "    'sourceFields': 'name,contact,resort_open,region,location,weather_zones,conditions,last_updated',\n",
    "}"
   ]
  },
  {
   "cell_type": "code",
   "execution_count": 160,
   "metadata": {},
   "outputs": [
    {
     "name": "stdout",
     "output_type": "stream",
     "text": [
      "200\n"
     ]
    }
   ],
   "source": [
    "# Access Fnug API and confirm successful GET request.\n",
    "r = requests.get(endpoint, params=parameters)\n",
    "print(r.status_code)\n",
    "data_dict = r.json()"
   ]
  },
  {
   "cell_type": "code",
   "execution_count": 170,
   "metadata": {},
   "outputs": [
    {
     "name": "stdout",
     "output_type": "stream",
     "text": [
      "Number of resorts matching query = 120\n"
     ]
    }
   ],
   "source": [
    "print ('Number of resorts matching query = ' + str(len(data_dict['hits']['hits'])))\n",
    "resorts = data_dict['hits']['hits']"
   ]
  },
  {
   "cell_type": "code",
   "execution_count": 162,
   "metadata": {},
   "outputs": [],
   "source": [
    "# Save to file for futre use.\n",
    "with open('fnugg-data.json', 'w') as json_file:\n",
    "    json.dump(data_dict, json_file, indent=4)"
   ]
  },
  {
   "cell_type": "code",
   "execution_count": 163,
   "metadata": {},
   "outputs": [],
   "source": [
    "# Reopen from file.\n",
    "with open('fnugg-data.json', 'r') as json_file:\n",
    "    data_dict = json.load(json_file)"
   ]
  },
  {
   "cell_type": "code",
   "execution_count": 172,
   "metadata": {},
   "outputs": [],
   "source": [
    "# Define DataFrame ro capture key details from API reponse.\n",
    "columns = ['name', 'region', 'resort_open', 'latitude', 'longitude', 'weather_zone_type', 'snow_at_top_current', 'snow_at_bottom_current', 'last_updated']\n",
    "df = pd.DataFrame(columns=columns)\n",
    "\n",
    "# Loop through resorts and collect data.\n",
    "for resort in resorts:\n",
    "    row = {\n",
    "        'name': resort['_source']['name'],\n",
    "        'region': resort['_source']['region'],\n",
    "        'resort_open': resort['_source']['resort_open'],\n",
    "        'latitude': resort['_source']['location']['lat'],\n",
    "        'longitude': resort['_source']['location']['lon'],\n",
    "        'weather_zone_type': resort['_source']['weather_zones']['type'],\n",
    "        'snow_at_top_current': resort['_source']['conditions']['current_report']['top']['snow']['depth_slope'],\n",
    "        'last_updated': resort['_source']['last_updated'],\n",
    "    }\n",
    "    if 'bottom' in resort['_source']['conditions']['current_report']: # Some resorts only have 'top' measurements.\n",
    "        row['snow_at_bottom_current'] = resort['_source']['conditions']['current_report']['bottom']['snow']['depth_slope']\n",
    "    else:\n",
    "        row['snow_at_bottom_current'] = None\n",
    "\n",
    "    df.loc[len(df)] = row\n"
   ]
  },
  {
   "cell_type": "code",
   "execution_count": 173,
   "metadata": {},
   "outputs": [
    {
     "data": {
      "text/plain": [
       "(120, 9)"
      ]
     },
     "execution_count": 173,
     "metadata": {},
     "output_type": "execute_result"
    }
   ],
   "source": [
    "df.shape"
   ]
  },
  {
   "cell_type": "code",
   "execution_count": 174,
   "metadata": {},
   "outputs": [],
   "source": [
    "df.to_csv('ski-resorts.csv', index=False)"
   ]
  }
 ],
 "metadata": {
  "kernelspec": {
   "display_name": ".venv",
   "language": "python",
   "name": "python3"
  },
  "language_info": {
   "codemirror_mode": {
    "name": "ipython",
    "version": 3
   },
   "file_extension": ".py",
   "mimetype": "text/x-python",
   "name": "python",
   "nbconvert_exporter": "python",
   "pygments_lexer": "ipython3",
   "version": "3.11.7"
  }
 },
 "nbformat": 4,
 "nbformat_minor": 2
}
