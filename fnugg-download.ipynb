{
 "cells": [
  {
   "cell_type": "code",
   "execution_count": 364,
   "metadata": {},
   "outputs": [],
   "source": [
    "import requests\n",
    "import ast\n",
    "import pandas as pd\n",
    "from rich import print as printr\n",
    "import json\n",
    "from pathlib import Path"
   ]
  },
  {
   "cell_type": "code",
   "execution_count": 365,
   "metadata": {},
   "outputs": [],
   "source": [
    "# Define query for Fnugg API.\n",
    "endpoint = 'https://api.fnugg.no/search'\n",
    "parameters = {\n",
    "    'size': 150,\n",
    "    'sourceFields': 'name,contact,resort_open,region,location,weather_zones,conditions,last_updated,site_path,lifts,slopes',\n",
    "}"
   ]
  },
  {
   "cell_type": "code",
   "execution_count": 366,
   "metadata": {},
   "outputs": [
    {
     "name": "stdout",
     "output_type": "stream",
     "text": [
      "200\n"
     ]
    }
   ],
   "source": [
    "# Access Fnug API and confirm successful GET request.\n",
    "r = requests.get(endpoint, params=parameters)\n",
    "print(r.status_code)\n",
    "data_dict = r.json()"
   ]
  },
  {
   "cell_type": "code",
   "execution_count": 367,
   "metadata": {},
   "outputs": [
    {
     "name": "stdout",
     "output_type": "stream",
     "text": [
      "Number of resorts matching query = 121\n"
     ]
    }
   ],
   "source": [
    "print ('Number of resorts matching query = ' + str(len(data_dict['hits']['hits'])))\n",
    "resorts = data_dict['hits']['hits']"
   ]
  },
  {
   "cell_type": "code",
   "execution_count": 368,
   "metadata": {},
   "outputs": [],
   "source": [
    "# Save to file for futre use.\n",
    "with open('fnugg-data.json', 'w') as json_file:\n",
    "    json.dump(data_dict, json_file, indent=4)"
   ]
  },
  {
   "cell_type": "code",
   "execution_count": 369,
   "metadata": {},
   "outputs": [],
   "source": [
    "# Reopen from file.\n",
    "with open('fnugg-data.json', 'r') as json_file:\n",
    "    data_dict = json.load(json_file)"
   ]
  },
  {
   "cell_type": "code",
   "execution_count": 370,
   "metadata": {},
   "outputs": [],
   "source": [
    "# Define DataFrame ro capture key details from API reponse.\n",
    "columns = ['name', 'region', 'resort_open', 'latitude', 'longitude', 'weather_zone_type',\n",
    "        'snow_at_top_current', 'snow_at_bottom_current', 'last_updated', 'total_slopes',\n",
    "        'slopes_open', 'total_lifts', 'lifts_open', 'url', 'weekend_forecast']\n",
    "df = pd.DataFrame(columns=columns)\n",
    "\n",
    "# Loop through resorts and collect data.\n",
    "for resort in resorts:\n",
    "    row = {\n",
    "        'name': resort['_source']['name'],\n",
    "        'region': resort['_source']['region'],\n",
    "        'resort_open': resort['_source']['resort_open'],\n",
    "        'latitude': resort['_source']['location']['lat'],\n",
    "        'longitude': resort['_source']['location']['lon'],\n",
    "        'weather_zone_type': resort['_source']['weather_zones']['type'],\n",
    "        'snow_at_top_current': resort['_source']['conditions']['current_report']['top']['snow']['depth_slope'],\n",
    "        'last_updated': resort['_source']['last_updated'],\n",
    "        'total_slopes': resort['_source']['slopes']['count'],\n",
    "        'slopes_open': resort['_source']['slopes']['open'],\n",
    "        'total_lifts': resort['_source']['lifts']['count'],\n",
    "        'lifts_open': resort['_source']['slopes']['open'],\n",
    "        'weekend_forecast': resort['_source']['conditions']['forecast']['weekend']['symbol']['fnugg_id'],\n",
    "        'url': 'https://fnugg.no/' + resort['_source']['site_path'],\n",
    "    }\n",
    "    if 'bottom' in resort['_source']['conditions']['current_report']: # Some resorts only have 'top' measurements.\n",
    "        row['snow_at_bottom_current'] = resort['_source']['conditions']['current_report']['bottom']['snow']['depth_slope']\n",
    "    else:\n",
    "        row['snow_at_bottom_current'] = None\n",
    "\n",
    "    df.loc[len(df)] = row\n"
   ]
  },
  {
   "cell_type": "code",
   "execution_count": 385,
   "metadata": {},
   "outputs": [],
   "source": [
    "weather_codes = {\n",
    "1: \"Radiant sun\",\n",
    "2: \"Mostly sun\",\n",
    "3: \"Cloudy\",\n",
    "4: \"Snow is reported here\",\n",
    "5: \"It's snowing!\",\n",
    "6: \"Risk of rain\",\n",
    "7: \"It's raining\",\n",
    "8: \"Danger of sleet\",\n",
    "9: \"It's nonsense..\",\n",
    "}"
   ]
  },
  {
   "cell_type": "code",
   "execution_count": 398,
   "metadata": {},
   "outputs": [
    {
     "data": {
      "text/plain": [
       "['Radiant sun',\n",
       " 'Mostly sun',\n",
       " 'Cloudy',\n",
       " 'Snow is reported here',\n",
       " \"It's snowing!\",\n",
       " 'Risk of rain',\n",
       " \"It's raining\",\n",
       " 'Danger of sleet',\n",
       " \"It's nonsense..\"]"
      ]
     },
     "execution_count": 398,
     "metadata": {},
     "output_type": "execute_result"
    }
   ],
   "source": [
    "list(weather_codes.values())"
   ]
  },
  {
   "cell_type": "code",
   "execution_count": 388,
   "metadata": {},
   "outputs": [],
   "source": [
    "df['weekend_forecast'] = df['weekend_forecast'].map(weather_codes)"
   ]
  },
  {
   "cell_type": "code",
   "execution_count": 394,
   "metadata": {},
   "outputs": [
    {
     "data": {
      "text/html": [
       "<div>\n",
       "<style scoped>\n",
       "    .dataframe tbody tr th:only-of-type {\n",
       "        vertical-align: middle;\n",
       "    }\n",
       "\n",
       "    .dataframe tbody tr th {\n",
       "        vertical-align: top;\n",
       "    }\n",
       "\n",
       "    .dataframe thead th {\n",
       "        text-align: right;\n",
       "    }\n",
       "</style>\n",
       "<table border=\"1\" class=\"dataframe\">\n",
       "  <thead>\n",
       "    <tr style=\"text-align: right;\">\n",
       "      <th></th>\n",
       "      <th>Name</th>\n",
       "      <th>Region</th>\n",
       "      <th>Resort Open</th>\n",
       "      <th>Latitude</th>\n",
       "      <th>Longitude</th>\n",
       "      <th>Weather Zone Type</th>\n",
       "      <th>Snow on Top (cm)</th>\n",
       "      <th>Snow at Bottom (cm)</th>\n",
       "      <th>Last Updated</th>\n",
       "      <th>Total Slopes</th>\n",
       "      <th>Slopes Open</th>\n",
       "      <th>Total Lifts</th>\n",
       "      <th>Lifts Open</th>\n",
       "      <th>Url</th>\n",
       "      <th>Weekend Forecast</th>\n",
       "    </tr>\n",
       "  </thead>\n",
       "  <tbody>\n",
       "    <tr>\n",
       "      <th>0</th>\n",
       "      <td>Arena Overøye Stordal Alpinsenter</td>\n",
       "      <td>[Nord-Vestlandet]</td>\n",
       "      <td>True</td>\n",
       "      <td>62.408805</td>\n",
       "      <td>7.212250</td>\n",
       "      <td>combined</td>\n",
       "      <td>60</td>\n",
       "      <td>None</td>\n",
       "      <td>2024-02-04T07:34:19Z</td>\n",
       "      <td>7</td>\n",
       "      <td>6</td>\n",
       "      <td>4</td>\n",
       "      <td>6</td>\n",
       "      <td>https://fnugg.no//arenaoveroye/</td>\n",
       "      <td>Radiant sun</td>\n",
       "    </tr>\n",
       "    <tr>\n",
       "      <th>1</th>\n",
       "      <td>Fulufjellet Alpinsenter</td>\n",
       "      <td>[Østlandet]</td>\n",
       "      <td>True</td>\n",
       "      <td>61.390801</td>\n",
       "      <td>12.746394</td>\n",
       "      <td>combined</td>\n",
       "      <td>40</td>\n",
       "      <td>None</td>\n",
       "      <td>2024-02-04T07:38:56Z</td>\n",
       "      <td>10</td>\n",
       "      <td>10</td>\n",
       "      <td>2</td>\n",
       "      <td>10</td>\n",
       "      <td>https://fnugg.no//fulufjellet/</td>\n",
       "      <td>Cloudy</td>\n",
       "    </tr>\n",
       "    <tr>\n",
       "      <th>2</th>\n",
       "      <td>Feforbakken</td>\n",
       "      <td>[Østlandet]</td>\n",
       "      <td>True</td>\n",
       "      <td>61.538611</td>\n",
       "      <td>9.642069</td>\n",
       "      <td>combined</td>\n",
       "      <td>60</td>\n",
       "      <td>None</td>\n",
       "      <td>2024-02-04T07:38:58Z</td>\n",
       "      <td>7</td>\n",
       "      <td>6</td>\n",
       "      <td>1</td>\n",
       "      <td>6</td>\n",
       "      <td>https://fnugg.no//feforbakken/</td>\n",
       "      <td>Cloudy</td>\n",
       "    </tr>\n",
       "    <tr>\n",
       "      <th>3</th>\n",
       "      <td>Hornindal Skisenter</td>\n",
       "      <td>[Nord-Vestlandet]</td>\n",
       "      <td>True</td>\n",
       "      <td>62.007834</td>\n",
       "      <td>6.561756</td>\n",
       "      <td>combined</td>\n",
       "      <td>80</td>\n",
       "      <td>None</td>\n",
       "      <td>2024-02-04T07:38:57Z</td>\n",
       "      <td>7</td>\n",
       "      <td>3</td>\n",
       "      <td>2</td>\n",
       "      <td>3</td>\n",
       "      <td>https://fnugg.no//hornindal/</td>\n",
       "      <td>Radiant sun</td>\n",
       "    </tr>\n",
       "    <tr>\n",
       "      <th>4</th>\n",
       "      <td>Gausta Skisenter</td>\n",
       "      <td>[Østlandet]</td>\n",
       "      <td>True</td>\n",
       "      <td>59.880152</td>\n",
       "      <td>8.734026</td>\n",
       "      <td>combined</td>\n",
       "      <td>100</td>\n",
       "      <td>None</td>\n",
       "      <td>2024-02-04T15:29:55Z</td>\n",
       "      <td>42</td>\n",
       "      <td>15</td>\n",
       "      <td>13</td>\n",
       "      <td>15</td>\n",
       "      <td>https://fnugg.no//gausta/</td>\n",
       "      <td>Cloudy</td>\n",
       "    </tr>\n",
       "  </tbody>\n",
       "</table>\n",
       "</div>"
      ],
      "text/plain": [
       "                                Name             Region  Resort Open  \\\n",
       "0  Arena Overøye Stordal Alpinsenter  [Nord-Vestlandet]         True   \n",
       "1            Fulufjellet Alpinsenter        [Østlandet]         True   \n",
       "2                        Feforbakken        [Østlandet]         True   \n",
       "3                Hornindal Skisenter  [Nord-Vestlandet]         True   \n",
       "4                   Gausta Skisenter        [Østlandet]         True   \n",
       "\n",
       "    Latitude  Longitude Weather Zone Type Snow on Top (cm)  \\\n",
       "0  62.408805   7.212250          combined               60   \n",
       "1  61.390801  12.746394          combined               40   \n",
       "2  61.538611   9.642069          combined               60   \n",
       "3  62.007834   6.561756          combined               80   \n",
       "4  59.880152   8.734026          combined              100   \n",
       "\n",
       "  Snow at Bottom (cm)          Last Updated  Total Slopes  Slopes Open  \\\n",
       "0                None  2024-02-04T07:34:19Z             7            6   \n",
       "1                None  2024-02-04T07:38:56Z            10           10   \n",
       "2                None  2024-02-04T07:38:58Z             7            6   \n",
       "3                None  2024-02-04T07:38:57Z             7            3   \n",
       "4                None  2024-02-04T15:29:55Z            42           15   \n",
       "\n",
       "   Total Lifts  Lifts Open                              Url Weekend Forecast  \n",
       "0            4           6  https://fnugg.no//arenaoveroye/      Radiant sun  \n",
       "1            2          10   https://fnugg.no//fulufjellet/           Cloudy  \n",
       "2            1           6   https://fnugg.no//feforbakken/           Cloudy  \n",
       "3            2           3     https://fnugg.no//hornindal/      Radiant sun  \n",
       "4           13          15        https://fnugg.no//gausta/           Cloudy  "
      ]
     },
     "execution_count": 394,
     "metadata": {},
     "output_type": "execute_result"
    }
   ],
   "source": [
    "# Create a DataFrame for the Shiny dashboard.\n",
    "renamer = {\n",
    "    'name': 'Name',\n",
    "    'region': 'Region',\n",
    "    'resort_open': 'Resort Open',\n",
    "    'latitude': 'Latitude',\n",
    "    'longitude': 'Longitude',\n",
    "    'weather_zone_type': 'Weather Zone Type',\n",
    "    'snow_at_top_current': 'Snow on Top (cm)',\n",
    "    'snow_at_bottom_current': 'Snow at Bottom (cm)',\n",
    "    'last_updated': 'Last Updated',\n",
    "    'total_slopes': 'Total Slopes',\n",
    "    'slopes_open': 'Slopes Open',\n",
    "    'total_lifts': 'Total Lifts',\n",
    "    'lifts_open': 'Lifts Open',\n",
    "    'weekend_forecast': 'Weekend Forecast',\n",
    "    'url': 'Url',\n",
    "    }\n",
    "\n",
    "df_dashboard = df.rename(columns=renamer)\n",
    "df_dashboard.head()"
   ]
  },
  {
   "cell_type": "code",
   "execution_count": 390,
   "metadata": {},
   "outputs": [],
   "source": [
    "cwd = Path.cwd()\n",
    "file_path = cwd / 'dashboard' / 'ski-resorts.csv'"
   ]
  },
  {
   "cell_type": "code",
   "execution_count": 391,
   "metadata": {},
   "outputs": [],
   "source": [
    "df_dashboard.to_csv(file_path, index=False)"
   ]
  },
  {
   "cell_type": "code",
   "execution_count": 392,
   "metadata": {},
   "outputs": [],
   "source": [
    "resort_df = pd.read_csv(file_path)"
   ]
  },
  {
   "cell_type": "code",
   "execution_count": 393,
   "metadata": {},
   "outputs": [
    {
     "data": {
      "text/plain": [
       "Name                    object\n",
       "Region                  object\n",
       "Resort Open               bool\n",
       "Latitude               float64\n",
       "Longitude              float64\n",
       "Weather Zone Type       object\n",
       "Snow on Top (cm)       float64\n",
       "Snow at Bottom (cm)    float64\n",
       "Last Updated            object\n",
       "Total Slopes             int64\n",
       "Slopes Open              int64\n",
       "Total Lifts              int64\n",
       "Lifts Open               int64\n",
       "Url                     object\n",
       "Weekend Forecast        object\n",
       "dtype: object"
      ]
     },
     "execution_count": 393,
     "metadata": {},
     "output_type": "execute_result"
    }
   ],
   "source": [
    "resort_df.dtypes"
   ]
  },
  {
   "cell_type": "code",
   "execution_count": 402,
   "metadata": {},
   "outputs": [
    {
     "data": {
      "text/plain": [
       "{'Radiant sun'}"
      ]
     },
     "execution_count": 402,
     "metadata": {},
     "output_type": "execute_result"
    }
   ],
   "source": [
    "set([resort_df['Weekend Forecast'][0]])"
   ]
  },
  {
   "cell_type": "code",
   "execution_count": 412,
   "metadata": {},
   "outputs": [],
   "source": [
    "list = resort_df['Weekend Forecast'].unique().tolist()"
   ]
  },
  {
   "cell_type": "code",
   "execution_count": 421,
   "metadata": {},
   "outputs": [
    {
     "data": {
      "text/plain": [
       "['Cloudy', 'Mostly sun', 'Radiant sun']"
      ]
     },
     "execution_count": 421,
     "metadata": {},
     "output_type": "execute_result"
    }
   ],
   "source": [
    "sorted(list)"
   ]
  },
  {
   "cell_type": "code",
   "execution_count": null,
   "metadata": {},
   "outputs": [],
   "source": []
  }
 ],
 "metadata": {
  "kernelspec": {
   "display_name": ".venv",
   "language": "python",
   "name": "python3"
  },
  "language_info": {
   "codemirror_mode": {
    "name": "ipython",
    "version": 3
   },
   "file_extension": ".py",
   "mimetype": "text/x-python",
   "name": "python",
   "nbconvert_exporter": "python",
   "pygments_lexer": "ipython3",
   "version": "3.11.7"
  }
 },
 "nbformat": 4,
 "nbformat_minor": 2
}
